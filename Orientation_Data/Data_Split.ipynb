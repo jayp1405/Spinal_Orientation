{
 "cells": [
  {
   "cell_type": "code",
   "execution_count": 5,
   "metadata": {},
   "outputs": [
    {
     "name": "stdout",
     "output_type": "stream",
     "text": [
      "Organizing files complete.\n"
     ]
    }
   ],
   "source": [
    "import os\n",
    "import shutil\n",
    "import random\n",
    "from pathlib import Path\n",
    "\n",
    "# Define your folders and their respective labels\n",
    "folders = {\n",
    "    'AP': 0,\n",
    "    'Lateral': 1,\n",
    "    'Oblique': 2\n",
    "}\n",
    "\n",
    "# Define ratios for train, test, validate split\n",
    "train_ratio = 0.7\n",
    "test_ratio = 0.2\n",
    "validate_ratio = 0.1\n",
    "\n",
    "# Function to create directories if they don't exist\n",
    "def create_dir(directory):\n",
    "    if not os.path.exists(directory):\n",
    "        os.makedirs(directory)\n",
    "\n",
    "# Function to move files into respective directories\n",
    "def organize_files(source_folder, label):\n",
    "    files = os.listdir(source_folder)\n",
    "    random.shuffle(files)\n",
    "    \n",
    "    train_cutoff = int(train_ratio * len(files))\n",
    "    test_cutoff = int((train_ratio + test_ratio) * len(files))\n",
    "    \n",
    "    for i, file in enumerate(files):\n",
    "        if i < train_cutoff:\n",
    "            folder = 'train'\n",
    "        elif i < test_cutoff:\n",
    "            folder = 'test'\n",
    "        else:\n",
    "            folder = 'validate'\n",
    "        \n",
    "        src_file = os.path.join(source_folder, file)\n",
    "        dest_folder = os.path.join('data', folder, str(label))\n",
    "        create_dir(dest_folder)\n",
    "        shutil.copy(src_file, dest_folder)\n",
    "\n",
    "# Organize files from each folder\n",
    "for folder, label in folders.items():\n",
    "    source_folder = os.path.join('/home/jpatel6/Orientation_Data', folder)\n",
    "    organize_files(source_folder, label)\n",
    "\n",
    "print(\"Organizing files complete.\")\n"
   ]
  }
 ],
 "metadata": {
  "kernelspec": {
   "display_name": "base",
   "language": "python",
   "name": "python3"
  },
  "language_info": {
   "codemirror_mode": {
    "name": "ipython",
    "version": 3
   },
   "file_extension": ".py",
   "mimetype": "text/x-python",
   "name": "python",
   "nbconvert_exporter": "python",
   "pygments_lexer": "ipython3",
   "version": "3.10.13"
  }
 },
 "nbformat": 4,
 "nbformat_minor": 2
}
